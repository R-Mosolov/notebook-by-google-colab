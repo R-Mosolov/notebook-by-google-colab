{
  "nbformat": 4,
  "nbformat_minor": 0,
  "metadata": {
    "colab": {
      "name": "google-colab-2.ipynb",
      "provenance": [],
      "authorship_tag": "ABX9TyNIVt8p0NVO3h0Bt3Gl0sg8",
      "include_colab_link": true
    },
    "kernelspec": {
      "name": "python3",
      "display_name": "Python 3"
    }
  },
  "cells": [
    {
      "cell_type": "markdown",
      "metadata": {
        "id": "view-in-github",
        "colab_type": "text"
      },
      "source": [
        "<a href=\"https://colab.research.google.com/github/R-Mosolov/notebook-by-google-colab/blob/main/google_colab_2.ipynb\" target=\"_parent\"><img src=\"https://colab.research.google.com/assets/colab-badge.svg\" alt=\"Open In Colab\"/></a>"
      ]
    },
    {
      "cell_type": "code",
      "metadata": {
        "id": "OmUzO-7N-plN"
      },
      "source": [
        "# Test integration process with Notebook by Google Colab. Part #2"
      ],
      "execution_count": null,
      "outputs": []
    }
  ]
}
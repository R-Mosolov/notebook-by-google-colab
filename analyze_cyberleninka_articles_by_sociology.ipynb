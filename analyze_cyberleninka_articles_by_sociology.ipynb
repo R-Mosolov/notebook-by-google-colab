{
  "nbformat": 4,
  "nbformat_minor": 0,
  "metadata": {
    "colab": {
      "name": "analyze_cyberleninka_articles_by_sociology.ipynb",
      "provenance": [],
      "collapsed_sections": [],
      "machine_shape": "hm",
      "mount_file_id": "1qTfJaqd1p086c-gSPWqdhVmxhfza63NW",
      "authorship_tag": "ABX9TyNOiaipcQKjfMsobldKI56d",
      "include_colab_link": true
    },
    "kernelspec": {
      "name": "python3",
      "display_name": "Python 3"
    },
    "accelerator": "GPU"
  },
  "cells": [
    {
      "cell_type": "markdown",
      "metadata": {
        "id": "view-in-github",
        "colab_type": "text"
      },
      "source": [
        "<a href=\"https://colab.research.google.com/github/R-Mosolov/notebook-by-google-colab/blob/main/analyze_cyberleninka_articles_by_sociology.ipynb\" target=\"_parent\"><img src=\"https://colab.research.google.com/assets/colab-badge.svg\" alt=\"Open In Colab\"/></a>"
      ]
    },
    {
      "cell_type": "code",
      "metadata": {
        "id": "0m6Ue1ish13F"
      },
      "source": [
        "# Import all dependencies\n",
        "import pandas as pd\n",
        "from nltk.probability import FreqDist"
      ],
      "execution_count": 3,
      "outputs": []
    },
    {
      "cell_type": "code",
      "metadata": {
        "id": "MZ-DJwIMjXEC"
      },
      "source": [
        "'''\n",
        "Notations:\n",
        "– df – dataframe.\n",
        "'''\n",
        "\n",
        "'''\n",
        "TODO:\n",
        "– add relative value of data for each local result.\n",
        "'''"
      ],
      "execution_count": null,
      "outputs": []
    },
    {
      "cell_type": "code",
      "metadata": {
        "colab": {
          "base_uri": "https://localhost:8080/"
        },
        "id": "qMlsNHNdl001",
        "outputId": "a23b9b56-005b-408e-d5aa-35efeb266432"
      },
      "source": [
        "'''\n",
        "The research target #1:\n",
        "Average quantity of authors in common publications\n",
        "'''\n",
        "authors = df['article_author']\n",
        "authors\n",
        "\n",
        "ordinary_publications = 0\n",
        "common_publications = 0\n",
        "\n",
        "two_co_authors = 0\n",
        "three_co_authors = 0\n",
        "four_co_authors = 0\n",
        "five_co_authors = 0\n",
        "more_than_five_co_authors = 0\n",
        "\n",
        "for author in authors:\n",
        "  if len(author.split(', ')) > 1:\n",
        "    common_publications += 1\n",
        "\n",
        "    # Calculate co-authors quantity\n",
        "    if len(author.split(', ')) == 2:\n",
        "      two_co_authors += 1\n",
        "    if len(author.split(', ')) == 3:\n",
        "      three_co_authors += 1\n",
        "    if len(author.split(', ')) == 4:\n",
        "      four_co_authors += 1\n",
        "    if len(author.split(', ')) == 5:\n",
        "      five_co_authors += 1\n",
        "    if len(author.split(', ')) > 5:\n",
        "      more_than_five_co_authors += 1\n",
        "  else:\n",
        "    ordinary_publications += 1\n",
        "\n",
        "print('--- Статистика по публикациям ---')\n",
        "print('ВСЕГО публикаций:', ordinary_publications + common_publications, 'шт.')\n",
        "print('Одиночных публикаций:', ordinary_publications, 'шт.')\n",
        "print('Коллективных публикаций:', common_publications, 'шт.')\n",
        "\n",
        "print('--- Статистика по соавторам ---')\n",
        "print('Публикаций с 2 соавторами:', two_co_authors, 'шт.')\n",
        "print('Публикаций с 3 соавторами:', three_co_authors, 'шт.')\n",
        "print('Публикаций с 4 соавторами:', four_co_authors, 'шт.')\n",
        "print('Публикаций с 5 соавторами:', five_co_authors, 'шт.')\n",
        "print('Публикаций с более, чем 5 соавторами:', more_than_five_co_authors, 'шт.')"
      ],
      "execution_count": null,
      "outputs": [
        {
          "output_type": "stream",
          "text": [
            "--- Статистика по публикациям ---\n",
            "ВСЕГО публикаций: 49820 шт.\n",
            "Одиночных публикаций: 35345 шт.\n",
            "Коллективных публикаций: 14475 шт.\n",
            "--- Статистика по соавторам ---\n",
            "Публикаций с 2 соавторами: 10479 шт.\n",
            "Публикаций с 3 соавторами: 2986 шт.\n",
            "Публикаций с 4 соавторами: 709 шт.\n",
            "Публикаций с 5 соавторами: 191 шт.\n",
            "Публикаций с более, чем 5 соавторами: 110 шт.\n"
          ],
          "name": "stdout"
        }
      ]
    },
    {
      "cell_type": "code",
      "metadata": {
        "colab": {
          "base_uri": "https://localhost:8080/"
        },
        "id": "9Yr-7nM4j7VB",
        "outputId": "fa4b1bb0-9299-4fd9-a49d-29c92793a460"
      },
      "source": [
        "'''\n",
        "The research target #2:\n",
        "Define quantity of articles published by free license (Creative Commons)\n",
        "'''\n",
        "article_licenses = df['article_license']\n",
        "\n",
        "artciels_with_free_license = 0\n",
        "artciels_without_free_license = 0\n",
        "unknown = 0\n",
        "\n",
        "for article_license in article_licenses:\n",
        "  if article_license == 'Yes':\n",
        "    artciels_with_free_license += 1\n",
        "  elif article_license == 'No':\n",
        "    artciels_without_free_license += 1\n",
        "  else:\n",
        "    unknown += 1\n",
        "\n",
        "print('Количество статей со свободной лицензией (Creative Commons):', artciels_with_free_license, 'шт.')\n",
        "print('Количество статей БЕЗ свободной лицензией (Creative Commons):', artciels_without_free_license, 'шт.')\n",
        "print('Количество статей с неизвестными данными о лицензии:', unknown, 'шт.')"
      ],
      "execution_count": null,
      "outputs": [
        {
          "output_type": "stream",
          "text": [
            "Количество статей со свободной лицензией (Creative Commons): 48588 шт.\n",
            "Количество статей БЕЗ свободной лицензией (Creative Commons): 1232 шт.\n",
            "Количество статей с неизвестными данными о лицензии: 0 шт.\n"
          ],
          "name": "stdout"
        }
      ]
    },
    {
      "cell_type": "code",
      "metadata": {
        "id": "VipyiSFkifvV",
        "colab": {
          "base_uri": "https://localhost:8080/",
          "height": 221
        },
        "outputId": "bd684083-5dc5-4a75-cd86-21dbae32234e"
      },
      "source": [
        "'''\n",
        "Show main information about the dataset\n",
        "'''\n",
        "df = pd.read_csv('/content/drive/MyDrive/Science/Datasets/cyberleninka-sociology-articles/cyberleninka-sociology-articles__1-5_sessions-rotation.csv')\n",
        "\n",
        "print('Датасет содержит:', len(df), 'строк')\n",
        "df.head()"
      ],
      "execution_count": 5,
      "outputs": [
        {
          "output_type": "stream",
          "text": [
            "Датасет содержит: 49820 строк\n"
          ],
          "name": "stdout"
        },
        {
          "output_type": "execute_result",
          "data": {
            "text/html": [
              "<div>\n",
              "<style scoped>\n",
              "    .dataframe tbody tr th:only-of-type {\n",
              "        vertical-align: middle;\n",
              "    }\n",
              "\n",
              "    .dataframe tbody tr th {\n",
              "        vertical-align: top;\n",
              "    }\n",
              "\n",
              "    .dataframe thead th {\n",
              "        text-align: right;\n",
              "    }\n",
              "</style>\n",
              "<table border=\"1\" class=\"dataframe\">\n",
              "  <thead>\n",
              "    <tr style=\"text-align: right;\">\n",
              "      <th></th>\n",
              "      <th>article_publication_date</th>\n",
              "      <th>article_author</th>\n",
              "      <th>article_title</th>\n",
              "      <th>article_license</th>\n",
              "      <th>journal_levels</th>\n",
              "    </tr>\n",
              "  </thead>\n",
              "  <tbody>\n",
              "    <tr>\n",
              "      <th>0</th>\n",
              "      <td>2012</td>\n",
              "      <td>Чилипёнок Юлия Юрьевна</td>\n",
              "      <td>Социальное взаимодействие на рынке труда: теор...</td>\n",
              "      <td>Yes</td>\n",
              "      <td>ВАК</td>\n",
              "    </tr>\n",
              "    <tr>\n",
              "      <th>1</th>\n",
              "      <td>2012</td>\n",
              "      <td>Аникеева Ольга Александровна</td>\n",
              "      <td>Социальная стратификация современного российск...</td>\n",
              "      <td>Yes</td>\n",
              "      <td>ВАК</td>\n",
              "    </tr>\n",
              "    <tr>\n",
              "      <th>2</th>\n",
              "      <td>2012</td>\n",
              "      <td>Рязанов Александр Владимирович</td>\n",
              "      <td>Управление идентичностью: артикуляция этнокуль...</td>\n",
              "      <td>Yes</td>\n",
              "      <td>ВАК</td>\n",
              "    </tr>\n",
              "    <tr>\n",
              "      <th>3</th>\n",
              "      <td>2011</td>\n",
              "      <td>Атисков Олег Александрович</td>\n",
              "      <td>Рынок иностранной рабочей силы в России на руб...</td>\n",
              "      <td>Yes</td>\n",
              "      <td>ВАК Scopus ESCI</td>\n",
              "    </tr>\n",
              "    <tr>\n",
              "      <th>4</th>\n",
              "      <td>2011</td>\n",
              "      <td>Фатхуллина Л. З.</td>\n",
              "      <td>Качество жизни сельского населения: от теории ...</td>\n",
              "      <td>No</td>\n",
              "      <td>ВАК</td>\n",
              "    </tr>\n",
              "  </tbody>\n",
              "</table>\n",
              "</div>"
            ],
            "text/plain": [
              "  article_publication_date  ...   journal_levels\n",
              "0                     2012  ...              ВАК\n",
              "1                     2012  ...              ВАК\n",
              "2                     2012  ...              ВАК\n",
              "3                     2011  ...  ВАК Scopus ESCI\n",
              "4                     2011  ...              ВАК\n",
              "\n",
              "[5 rows x 5 columns]"
            ]
          },
          "metadata": {
            "tags": []
          },
          "execution_count": 5
        }
      ]
    },
    {
      "cell_type": "code",
      "metadata": {
        "colab": {
          "base_uri": "https://localhost:8080/"
        },
        "id": "jSHUayh7wVmq",
        "outputId": "4b079bee-d733-4c0d-b85c-e0e14103fdba"
      },
      "source": [
        "# Show 100 most common authors\n",
        "fdist = FreqDist(all_articles_authors)\n",
        "print('Список 100 наиболее продуктивных авторов публикаций:')\n",
        "\n",
        "most_productive_authors = fdist.most_common(100)\n",
        "\n",
        "for author in most_productive_authors:\n",
        "  print(author)"
      ],
      "execution_count": null,
      "outputs": [
        {
          "output_type": "stream",
          "text": [
            "Список 100 наиболее продуктивных авторов публикаций:\n",
            "('Самыгин Сергей Иванович', 126)\n",
            "('Максимова Светлана Геннадьевна', 100)\n",
            "('Фомичев П. Н.', 85)\n",
            "('Якимова Е. В.', 77)\n",
            "('Куликова С. Н.', 73)\n",
            "('Ноянзина Оксана Евгеньевна', 69)\n",
            "('Верещагина Анна Владимировна', 66)\n",
            "('Морев Михаил Владимирович', 51)\n",
            "('Омельченко Дарья Алексеевна', 47)\n",
            "('Гафиатулина Наталья Халиловна', 47)\n",
            "('Волков Юрий Григорьевич', 46)\n",
            "('Кошарная Галина Борисовна', 46)\n",
            "('Дементьева Ирина Николаевна', 45)\n",
            "('Ильиных Светлана Анатольевна', 43)\n",
            "('Луков Валерий Андреевич', 43)\n",
            "('Былов В. Г.', 41)\n",
            "('Шабунова Александра Анатольевна', 40)\n",
            "('Леонидова Елена Эдуардовна', 38)\n",
            "('Ким С. Г.', 38)\n",
            "('Сериков Антон Владимирович', 38)\n",
            "('Горшков Михаил Константинович', 37)\n",
            "('Виноградова Т. В.', 36)\n",
            "('Лубский Анатолий Владимирович', 36)\n",
            "('Якимова Е.В.', 36)\n",
            "('Касьянов Валерий Васильевич', 35)\n",
            "('Ростовская Тамара Керимовна', 34)\n",
            "('Иванова Татьяна Николаевна', 34)\n",
            "('Цветкова Ирина Викторовна', 33)\n",
            "('Кожина Татьяна Павловна', 32)\n",
            "('Соколова М. Е.', 32)\n",
            "('Шахбанова Мадина Магомедкамиловна', 30)\n",
            "('Посухова Оксана Юрьевна', 29)\n",
            "('Гончарова Наталья Петровна', 29)\n",
            "('Карнаушенко Леонид Владимирович', 29)\n",
            "('Троцук Ирина Владимировна', 28)\n",
            "('Павлов Б. С.', 27)\n",
            "('Римашевская Наталья Михайловна', 27)\n",
            "('Ивановский Б.Г.', 27)\n",
            "('Бессчетнова Оксана Владимировна', 26)\n",
            "('Петров Александр Викторович', 26)\n",
            "('Васильева Э. П.', 26)\n",
            "('Ализаде А. А.', 26)\n",
            "('Черепанова Мария Ивановна', 26)\n",
            "('Кубякин Евгений Олегович', 25)\n",
            "('Реутов Евгений Викторович', 25)\n",
            "('Попов Виталий Владимирович', 25)\n",
            "('Павлов Борис Сергеевич', 25)\n",
            "('Гнатюк Максим Александрович', 25)\n",
            "('Евсеева Я.В.', 25)\n",
            "('Муха Виктория Николаевна', 24)\n",
            "('Устинкин Сергей Васильевич', 24)\n",
            "('Калачикова Ольга Николаевна', 24)\n",
            "('Проказина Наталья Васильевна', 24)\n",
            "('Лихачев М.О.', 24)\n",
            "('Романова Илона Валерьевна', 23)\n",
            "('Флиер Андрей Яковлевич', 23)\n",
            "('Темницкий Александр Лазаревич', 23)\n",
            "('Пряжникова О.Н.', 23)\n",
            "('Левада Юрий', 22)\n",
            "('Кучмаева Оксана Викторовна', 22)\n",
            "('Рязанцев Сергей Васильевич', 22)\n",
            "('Зборовский Гарольд Ефимович', 22)\n",
            "('Ядова М.А.', 22)\n",
            "('Долгов А.Ю.', 22)\n",
            "('Куликова С.Н.', 22)\n",
            "('Махиянова Алина Владимировна', 21)\n",
            "('Гужавина Татьяна Анатольевна', 21)\n",
            "('Григорьева Ирина Андреевна', 21)\n",
            "('Ушкова Е.Л.', 21)\n",
            "('Гирко Л. В.', 20)\n",
            "('Бабинцев Валентин Павлович', 20)\n",
            "('Горбунова Т. В.', 20)\n",
            "('Уварова Т. Б.', 20)\n",
            "('Ушкова Е. Л.', 20)\n",
            "('Доброхлеб Валентина Григорьевна', 20)\n",
            "('Леонидова Галина Валентиновна', 20)\n",
            "('Шиняева Ольга Викторовна', 20)\n",
            "('Попков Юрий Владимирович', 20)\n",
            "('Виноградова Т.В.', 20)\n",
            "('Разов Павел Викторович', 19)\n",
            "('Пузанова Жанна Васильевна', 19)\n",
            "('Филоненко Виктор Иванович', 19)\n",
            "('Голенкова Зинаида Тихоновна', 19)\n",
            "('Романова Нелли Петровна', 19)\n",
            "('Филипова Александра Геннадьевна', 19)\n",
            "('Горбачева Наталья Борисовна', 19)\n",
            "('Мощенко Иван Николаевич', 19)\n",
            "('Иванова Мария Ивановна', 19)\n",
            "('Плотников Владимир Валериевич', 19)\n",
            "('Гулин Константин Анатольевич', 19)\n",
            "('Ильюшкин Виталий Владимирович', 19)\n",
            "('Лиджи-Горяева С.Э.', 19)\n",
            "('Кравченко Сергей Александрович', 18)\n",
            "('Дубин Борис', 18)\n",
            "('Винокурова Анна Викторовна', 18)\n",
            "('Полюшкевич Оксана Александровна', 18)\n",
            "('Клименко Людмила Владиславовна', 18)\n",
            "('Певная Мария Владимировна', 18)\n",
            "('Щанина Екатерина Владимировна', 18)\n",
            "('Осипова Любовь Борисовна', 18)\n"
          ],
          "name": "stdout"
        }
      ]
    },
    {
      "cell_type": "code",
      "metadata": {
        "colab": {
          "base_uri": "https://localhost:8080/"
        },
        "id": "156RFlMnphKB",
        "outputId": "90c81e70-389d-4a4d-d4c2-1e8c7bc62654"
      },
      "source": [
        "'''\n",
        "The research target #3:\n",
        "Calculate most common articles authors\n",
        "'''\n",
        "article_authors = df['article_author']\n",
        "unknown_authors = 0\n",
        "all_articles_authors = []\n",
        "\n",
        "# Divide authors lists on separate authors\n",
        "for article_author in article_authors:\n",
        "  for separate_author in article_author.split(', '):\n",
        "    if separate_author == 'EMPTY':\n",
        "      unknown_authors += 1\n",
        "    else:\n",
        "      all_articles_authors.append(separate_author)\n",
        "\n",
        "all_articles_authors_counter = len(all_articles_authors) + unknown_authors\n",
        "\n",
        "print('ВСЕГО датасет содержит:', all_articles_authors_counter, 'неуникальных автора(-ов)')\n",
        "print('Датасет содержит:', len(all_articles_authors), 'неуникальных автора(-ов)')\n",
        "print(\n",
        "  'Датасет содержит случаев, когда сведения об авторе отсутствуют (EMPTY):',\n",
        "  unknown_authors, \n",
        "  'случаев'\n",
        ")"
      ],
      "execution_count": 7,
      "outputs": [
        {
          "output_type": "stream",
          "text": [
            "ВСЕГО датасет содержит: 69842 неуникальных автора(-ов)\n",
            "Датасет содержит: 69004 неуникальных автора(-ов)\n",
            "Датасет содержит случаев, когда сведения об авторе отсутствуют (EMPTY): 838 случаев\n"
          ],
          "name": "stdout"
        }
      ]
    },
    {
      "cell_type": "code",
      "metadata": {
        "colab": {
          "base_uri": "https://localhost:8080/",
          "height": 1000
        },
        "id": "ZXw7eSLi20ZP",
        "outputId": "883d9591-45e7-4b4f-c059-a6ff91ac8bf9"
      },
      "source": [
        "# Fix dublicated inforamtion about authors by using named entities. Ex.: Ivanov Ivan Ivanoivch > Ivanov I.I.\n",
        "# TODO: Delete the bug \"IndexError: string index out of range\" (see the local screenshot)\n",
        "def compareNameFullness(article_author_1, article_author_2):\n",
        "  if (\n",
        "    len(article_author_1.split('.')) > 1\n",
        "    and len(article_author_2.split('.')) > 1\n",
        "    or len(article_author_1.split('.')) == 1\n",
        "    and len(article_author_2.split('.')) == 1\n",
        "  ):\n",
        "    return True\n",
        "  else:\n",
        "    return False\n",
        "def getLastName(article_author):\n",
        "  return article_author.split(' ')[0]\n",
        "def getFirstNameLetter(article_author):\n",
        "  return article_author.split(' ')[1][0]\n",
        "def getMiddleNameLetter(article_author):\n",
        "  if len(article_author.split(' ')) == 2: # Ex.: Ivanov I.I.\n",
        "    # TODO: Add the condition to check 2 or 3 words in an author name\n",
        "    return article_author.split(' ')[1][2]\n",
        "  elif len(article_author.split(' ')) == 3: # Ex.: Ivanov I. I.\n",
        "    return article_author.split(' ')[2][0]\n",
        "\n",
        "for article_author_1 in all_articles_authors:\n",
        "  for article_author_2 in all_articles_authors:\n",
        "    if (\n",
        "      article_author_1 != article_author_2\n",
        "      and compareNameFullness(article_author_1, article_author_2) == False\n",
        "      and getLastName(article_author_1) == getLastName(article_author_2)\n",
        "      and getFirstNameLetter(article_author_1) == getFirstNameLetter(article_author_2)\n",
        "      and getMiddleNameLetter(article_author_1) == getMiddleNameLetter(article_author_2)\n",
        "    ):\n",
        "      print(article_author_1, '=', article_author_2)"
      ],
      "execution_count": 8,
      "outputs": [
        {
          "output_type": "stream",
          "text": [
            "Фатхуллина Л. З. = Фатхуллина Лилия Зинуровна\n",
            "Захарова Татьяна Николаевна = Захарова Т.Н.\n",
            "Петрищев Владимир Иннокентьевич = Петрищев В.И.\n",
            "Петрищев Владимир Иннокентьевич = Петрищев В. И.\n",
            "Максимова М. Н. = Максимова Маргарита Николаевна\n",
            "Шклярук В. Я. = Шклярук Василий Яковлевич\n",
            "Шклярук В. Я. = Шклярук Василий Яковлевич\n",
            "Шклярук В. Я. = Шклярук Василий Яковлевич\n",
            "Шклярук В. Я. = Шклярук Василий Яковлевич\n",
            "Шклярук В. Я. = Шклярук Василий Яковлевич\n",
            "Шклярук В. Я. = Шклярук Василий Яковлевич\n",
            "Шурбе В. З. = Шурбе Вера Захаровна\n",
            "Шурбе В. З. = Шурбе Вера Захаровна\n",
            "Шурбе В. З. = Шурбе Вера Захаровна\n",
            "Бутаева Маргижат Ахмедовна = Бутаева М. А.\n",
            "Козленко О. Б. = Козленко Ольга Борисовна\n",
            "Максименко Александр Александрович = Максименко А. А.\n",
            "Дубин Б. В. = Дубин Борис Владимирович\n",
            "Дубин Б. В. = Дубин Борис Владимирович\n",
            "Дубин Б. В. = Дубин Борис Владимирович\n",
            "Дубин Б. В. = Дубин Борис Владимирович\n",
            "Дубин Б. В. = Дубин Борис Владимирович\n",
            "Дубин Б. В. = Дубин Борис Владимирович\n",
            "Рожков М. И. = Рожков Михаил Иосифович\n",
            "Рожков М. И. = Рожков Михаил Иосифович\n",
            "Рожков М. И. = Рожков Михаил Иосифович\n",
            "Ковальчук М. А. = Ковальчук Марина Александровна\n",
            "Ласточкина М. А. = Ласточкина Мария Александровна\n",
            "Ласточкина М. А. = Ласточкина Мария Александровна\n",
            "Ласточкина М. А. = Ласточкина Мария Александровна\n",
            "Ласточкина М. А. = Ласточкина Мария Александровна\n",
            "Ласточкина М. А. = Ласточкина Мария Александровна\n",
            "Ласточкина М. А. = Ласточкина Мария Александровна\n",
            "Ласточкина М. А. = Ласточкина Мария Александровна\n",
            "Ласточкина М. А. = Ласточкина Мария Александровна\n",
            "Ласточкина М. А. = Ласточкина Мария Александровна\n",
            "Ласточкина М. А. = Ласточкина Мария Александровна\n",
            "Ласточкина М. А. = Ласточкина Мария Александровна\n",
            "Ласточкина М. А. = Ласточкина Мария Александровна\n",
            "Ласточкина М. А. = Ласточкина Мария Александровна\n",
            "Ласточкина М. А. = Ласточкина Мария Александровна\n",
            "Свенцицкий Анатолий Леонидович = Свенцицкий А.Л.\n",
            "Хаджаров Магомед Хандулаевич = Хаджаров М. Х.\n",
            "Мамычева Д. И. = Мамычева Диана Ивановна\n",
            "Мамычева Д. И. = Мамычева Диана Ивановна\n",
            "Мамычева Д. И. = Мамычева Диана Ивановна\n",
            "Потапова О. Н. = Потапова Ольга Николаевна\n",
            "Потапова О. Н. = Потапова Ольга Николаевна\n",
            "Потапова О. Н. = Потапова Ольга Николаевна\n",
            "Потапова О. Н. = Потапова Ольга Николаевна\n",
            "Тавокин Е. П. = Тавокин Евгений Петрович\n",
            "Тавокин Е. П. = Тавокин Евгений Петрович\n",
            "Тавокин Е. П. = Тавокин Евгений Петрович\n",
            "Тавокин Е. П. = Тавокин Евгений Петрович\n",
            "Тавокин Е. П. = Тавокин Евгений Петрович\n",
            "Тавокин Е. П. = Тавокин Евгений Петрович\n",
            "Смакотина Наталия Леоновна = Смакотина Н. Л.\n",
            "Паначев В. Д. = Паначев Валерий Дмитриевич\n",
            "Паначев В. Д. = Паначев Валерий Дмитриевич\n",
            "Паначев В. Д. = Паначев Валерий Дмитриевич\n",
            "Паначев В. Д. = Паначев Валерий Дмитриевич\n",
            "Паначев В. Д. = Паначев Валерий Дмитриевич\n",
            "Паначев В. Д. = Паначев Валерий Дмитриевич\n"
          ],
          "name": "stdout"
        },
        {
          "output_type": "error",
          "ename": "IndexError",
          "evalue": "ignored",
          "traceback": [
            "\u001b[0;31m---------------------------------------------------------------------------\u001b[0m",
            "\u001b[0;31mIndexError\u001b[0m                                Traceback (most recent call last)",
            "\u001b[0;32m<ipython-input-8-e78e09f37490>\u001b[0m in \u001b[0;36m<module>\u001b[0;34m()\u001b[0m\n\u001b[1;32m     29\u001b[0m       \u001b[0;32mand\u001b[0m \u001b[0mgetLastName\u001b[0m\u001b[0;34m(\u001b[0m\u001b[0marticle_author_1\u001b[0m\u001b[0;34m)\u001b[0m \u001b[0;34m==\u001b[0m \u001b[0mgetLastName\u001b[0m\u001b[0;34m(\u001b[0m\u001b[0marticle_author_2\u001b[0m\u001b[0;34m)\u001b[0m\u001b[0;34m\u001b[0m\u001b[0;34m\u001b[0m\u001b[0m\n\u001b[1;32m     30\u001b[0m       \u001b[0;32mand\u001b[0m \u001b[0mgetFirstNameLetter\u001b[0m\u001b[0;34m(\u001b[0m\u001b[0marticle_author_1\u001b[0m\u001b[0;34m)\u001b[0m \u001b[0;34m==\u001b[0m \u001b[0mgetFirstNameLetter\u001b[0m\u001b[0;34m(\u001b[0m\u001b[0marticle_author_2\u001b[0m\u001b[0;34m)\u001b[0m\u001b[0;34m\u001b[0m\u001b[0;34m\u001b[0m\u001b[0m\n\u001b[0;32m---> 31\u001b[0;31m       \u001b[0;32mand\u001b[0m \u001b[0mgetMiddleNameLetter\u001b[0m\u001b[0;34m(\u001b[0m\u001b[0marticle_author_1\u001b[0m\u001b[0;34m)\u001b[0m \u001b[0;34m==\u001b[0m \u001b[0mgetMiddleNameLetter\u001b[0m\u001b[0;34m(\u001b[0m\u001b[0marticle_author_2\u001b[0m\u001b[0;34m)\u001b[0m\u001b[0;34m\u001b[0m\u001b[0;34m\u001b[0m\u001b[0m\n\u001b[0m\u001b[1;32m     32\u001b[0m     ):\n\u001b[1;32m     33\u001b[0m       \u001b[0mprint\u001b[0m\u001b[0;34m(\u001b[0m\u001b[0marticle_author_1\u001b[0m\u001b[0;34m,\u001b[0m \u001b[0;34m'='\u001b[0m\u001b[0;34m,\u001b[0m \u001b[0marticle_author_2\u001b[0m\u001b[0;34m)\u001b[0m\u001b[0;34m\u001b[0m\u001b[0;34m\u001b[0m\u001b[0m\n",
            "\u001b[0;32m<ipython-input-8-e78e09f37490>\u001b[0m in \u001b[0;36mgetMiddleNameLetter\u001b[0;34m(article_author)\u001b[0m\n\u001b[1;32m     18\u001b[0m   \u001b[0;32mif\u001b[0m \u001b[0mlen\u001b[0m\u001b[0;34m(\u001b[0m\u001b[0marticle_author\u001b[0m\u001b[0;34m.\u001b[0m\u001b[0msplit\u001b[0m\u001b[0;34m(\u001b[0m\u001b[0;34m' '\u001b[0m\u001b[0;34m)\u001b[0m\u001b[0;34m)\u001b[0m \u001b[0;34m==\u001b[0m \u001b[0;36m2\u001b[0m\u001b[0;34m:\u001b[0m \u001b[0;31m# Ex.: Ivanov I.I.\u001b[0m\u001b[0;34m\u001b[0m\u001b[0;34m\u001b[0m\u001b[0m\n\u001b[1;32m     19\u001b[0m     \u001b[0;31m# TODO: Add the condition to check 2 or 3 words in an author name\u001b[0m\u001b[0;34m\u001b[0m\u001b[0;34m\u001b[0m\u001b[0;34m\u001b[0m\u001b[0m\n\u001b[0;32m---> 20\u001b[0;31m     \u001b[0;32mreturn\u001b[0m \u001b[0marticle_author\u001b[0m\u001b[0;34m.\u001b[0m\u001b[0msplit\u001b[0m\u001b[0;34m(\u001b[0m\u001b[0;34m' '\u001b[0m\u001b[0;34m)\u001b[0m\u001b[0;34m[\u001b[0m\u001b[0;36m1\u001b[0m\u001b[0;34m]\u001b[0m\u001b[0;34m[\u001b[0m\u001b[0;36m2\u001b[0m\u001b[0;34m]\u001b[0m\u001b[0;34m\u001b[0m\u001b[0;34m\u001b[0m\u001b[0m\n\u001b[0m\u001b[1;32m     21\u001b[0m   \u001b[0;32melif\u001b[0m \u001b[0mlen\u001b[0m\u001b[0;34m(\u001b[0m\u001b[0marticle_author\u001b[0m\u001b[0;34m.\u001b[0m\u001b[0msplit\u001b[0m\u001b[0;34m(\u001b[0m\u001b[0;34m' '\u001b[0m\u001b[0;34m)\u001b[0m\u001b[0;34m)\u001b[0m \u001b[0;34m==\u001b[0m \u001b[0;36m3\u001b[0m\u001b[0;34m:\u001b[0m \u001b[0;31m# Ex.: Ivanov I. I.\u001b[0m\u001b[0;34m\u001b[0m\u001b[0;34m\u001b[0m\u001b[0m\n\u001b[1;32m     22\u001b[0m     \u001b[0;32mreturn\u001b[0m \u001b[0marticle_author\u001b[0m\u001b[0;34m.\u001b[0m\u001b[0msplit\u001b[0m\u001b[0;34m(\u001b[0m\u001b[0;34m' '\u001b[0m\u001b[0;34m)\u001b[0m\u001b[0;34m[\u001b[0m\u001b[0;36m2\u001b[0m\u001b[0;34m]\u001b[0m\u001b[0;34m[\u001b[0m\u001b[0;36m0\u001b[0m\u001b[0;34m]\u001b[0m\u001b[0;34m\u001b[0m\u001b[0;34m\u001b[0m\u001b[0m\n",
            "\u001b[0;31mIndexError\u001b[0m: string index out of range"
          ]
        }
      ]
    }
  ]
}
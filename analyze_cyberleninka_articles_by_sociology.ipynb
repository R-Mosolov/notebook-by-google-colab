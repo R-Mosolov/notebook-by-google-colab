{
  "nbformat": 4,
  "nbformat_minor": 0,
  "metadata": {
    "colab": {
      "name": "analyze_cyberleninka_articles_by_sociology.ipynb",
      "provenance": [],
      "collapsed_sections": [],
      "machine_shape": "hm",
      "mount_file_id": "1qTfJaqd1p086c-gSPWqdhVmxhfza63NW",
      "authorship_tag": "ABX9TyP27t+9FAJqITxdAS6LdjH6",
      "include_colab_link": true
    },
    "kernelspec": {
      "name": "python3",
      "display_name": "Python 3"
    },
    "accelerator": "GPU"
  },
  "cells": [
    {
      "cell_type": "markdown",
      "metadata": {
        "id": "view-in-github",
        "colab_type": "text"
      },
      "source": [
        "<a href=\"https://colab.research.google.com/github/R-Mosolov/notebook-by-google-colab/blob/main/analyze_cyberleninka_articles_by_sociology.ipynb\" target=\"_parent\"><img src=\"https://colab.research.google.com/assets/colab-badge.svg\" alt=\"Open In Colab\"/></a>"
      ]
    },
    {
      "cell_type": "code",
      "metadata": {
        "id": "0m6Ue1ish13F"
      },
      "source": [
        "# Import all dependencies\n",
        "import statistics\n",
        "import pandas as pd\n",
        "import numpy as np\n",
        "import matplotlib.pyplot as plt\n",
        "from nltk.probability import FreqDist"
      ],
      "execution_count": null,
      "outputs": []
    },
    {
      "cell_type": "code",
      "metadata": {
        "id": "MZ-DJwIMjXEC",
        "colab": {
          "base_uri": "https://localhost:8080/",
          "height": 37
        },
        "outputId": "e860a077-3cbf-49ee-b4b6-44a866b744cd"
      },
      "source": [
        "'''\n",
        "Notations:\n",
        "– df – dataframe,\n",
        "– av – average.\n",
        "'''\n",
        "\n",
        "'''\n",
        "TODO:\n",
        "– add relative value of data for each local result.\n",
        "'''"
      ],
      "execution_count": null,
      "outputs": [
        {
          "output_type": "execute_result",
          "data": {
            "application/vnd.google.colaboratory.intrinsic+json": {
              "type": "string"
            },
            "text/plain": [
              "'\\nTODO:\\n– add relative value of data for each local result.\\n'"
            ]
          },
          "metadata": {
            "tags": []
          },
          "execution_count": 2
        }
      ]
    },
    {
      "cell_type": "code",
      "metadata": {
        "id": "6-_HcwafUZWh"
      },
      "source": [
        "'''\n",
        "Additional functions\n",
        "'''\n",
        "def transform_to_relative(absolute_value, df):\n",
        "  if type(absolute_value) is list:\n",
        "    return '(' + str(round(len(absolute_value) * 100 / len(df), 2)) + '%' + ')'\n",
        "  elif type(absolute_value) is int:\n",
        "    return '(' + str(round(absolute_value * 100 / len(df), 2)) + '%' + ')'"
      ],
      "execution_count": null,
      "outputs": []
    },
    {
      "cell_type": "code",
      "metadata": {
        "id": "VipyiSFkifvV",
        "colab": {
          "base_uri": "https://localhost:8080/",
          "height": 221
        },
        "outputId": "2c7edbc6-d245-4e69-b7cd-1d62171d532a"
      },
      "source": [
        "'''\n",
        "Show main information about the dataset\n",
        "'''\n",
        "df = pd.read_csv('/content/drive/MyDrive/Science/Datasets/cyberleninka-sociology-articles/cyberleninka-sociology-articles__1-5_sessions-rotation.csv')\n",
        "\n",
        "print('Датасет содержит:', len(df), 'строк')\n",
        "df.head()"
      ],
      "execution_count": null,
      "outputs": [
        {
          "output_type": "stream",
          "text": [
            "Датасет содержит: 49820 строк\n"
          ],
          "name": "stdout"
        },
        {
          "output_type": "execute_result",
          "data": {
            "text/html": [
              "<div>\n",
              "<style scoped>\n",
              "    .dataframe tbody tr th:only-of-type {\n",
              "        vertical-align: middle;\n",
              "    }\n",
              "\n",
              "    .dataframe tbody tr th {\n",
              "        vertical-align: top;\n",
              "    }\n",
              "\n",
              "    .dataframe thead th {\n",
              "        text-align: right;\n",
              "    }\n",
              "</style>\n",
              "<table border=\"1\" class=\"dataframe\">\n",
              "  <thead>\n",
              "    <tr style=\"text-align: right;\">\n",
              "      <th></th>\n",
              "      <th>article_publication_date</th>\n",
              "      <th>article_author</th>\n",
              "      <th>article_title</th>\n",
              "      <th>article_license</th>\n",
              "      <th>journal_levels</th>\n",
              "    </tr>\n",
              "  </thead>\n",
              "  <tbody>\n",
              "    <tr>\n",
              "      <th>0</th>\n",
              "      <td>2012</td>\n",
              "      <td>Чилипёнок Юлия Юрьевна</td>\n",
              "      <td>Социальное взаимодействие на рынке труда: теор...</td>\n",
              "      <td>Yes</td>\n",
              "      <td>ВАК</td>\n",
              "    </tr>\n",
              "    <tr>\n",
              "      <th>1</th>\n",
              "      <td>2012</td>\n",
              "      <td>Аникеева Ольга Александровна</td>\n",
              "      <td>Социальная стратификация современного российск...</td>\n",
              "      <td>Yes</td>\n",
              "      <td>ВАК</td>\n",
              "    </tr>\n",
              "    <tr>\n",
              "      <th>2</th>\n",
              "      <td>2012</td>\n",
              "      <td>Рязанов Александр Владимирович</td>\n",
              "      <td>Управление идентичностью: артикуляция этнокуль...</td>\n",
              "      <td>Yes</td>\n",
              "      <td>ВАК</td>\n",
              "    </tr>\n",
              "    <tr>\n",
              "      <th>3</th>\n",
              "      <td>2011</td>\n",
              "      <td>Атисков Олег Александрович</td>\n",
              "      <td>Рынок иностранной рабочей силы в России на руб...</td>\n",
              "      <td>Yes</td>\n",
              "      <td>ВАК Scopus ESCI</td>\n",
              "    </tr>\n",
              "    <tr>\n",
              "      <th>4</th>\n",
              "      <td>2011</td>\n",
              "      <td>Фатхуллина Л. З.</td>\n",
              "      <td>Качество жизни сельского населения: от теории ...</td>\n",
              "      <td>No</td>\n",
              "      <td>ВАК</td>\n",
              "    </tr>\n",
              "  </tbody>\n",
              "</table>\n",
              "</div>"
            ],
            "text/plain": [
              "  article_publication_date  ...   journal_levels\n",
              "0                     2012  ...              ВАК\n",
              "1                     2012  ...              ВАК\n",
              "2                     2012  ...              ВАК\n",
              "3                     2011  ...  ВАК Scopus ESCI\n",
              "4                     2011  ...              ВАК\n",
              "\n",
              "[5 rows x 5 columns]"
            ]
          },
          "metadata": {
            "tags": []
          },
          "execution_count": 4
        }
      ]
    },
    {
      "cell_type": "code",
      "metadata": {
        "colab": {
          "base_uri": "https://localhost:8080/"
        },
        "id": "qMlsNHNdl001",
        "outputId": "3e614476-9997-4709-9a40-32f8224eb720"
      },
      "source": [
        "'''\n",
        "The research target #1:\n",
        "Average quantity of authors in common publications\n",
        "'''\n",
        "authors = df['article_author']\n",
        "authors\n",
        "\n",
        "ordinary_publications = 0\n",
        "common_publications = 0\n",
        "\n",
        "two_co_authors = 0\n",
        "three_co_authors = 0\n",
        "four_co_authors = 0\n",
        "five_co_authors = 0\n",
        "more_than_five_co_authors = 0\n",
        "\n",
        "for author in authors:\n",
        "  if len(author.split(', ')) > 1:\n",
        "    common_publications += 1\n",
        "\n",
        "    # Calculate co-authors quantity\n",
        "    if len(author.split(', ')) == 2:\n",
        "      two_co_authors += 1\n",
        "    if len(author.split(', ')) == 3:\n",
        "      three_co_authors += 1\n",
        "    if len(author.split(', ')) == 4:\n",
        "      four_co_authors += 1\n",
        "    if len(author.split(', ')) == 5:\n",
        "      five_co_authors += 1\n",
        "    if len(author.split(', ')) > 5:\n",
        "      more_than_five_co_authors += 1\n",
        "  else:\n",
        "    ordinary_publications += 1\n",
        "\n",
        "print('--- Статистика по публикациям ---')\n",
        "print('ВСЕГО публикаций:', ordinary_publications + common_publications, 'шт.')\n",
        "print('Одиночных публикаций:', ordinary_publications, 'шт.')\n",
        "print('Коллективных публикаций:', common_publications, 'шт.')\n",
        "\n",
        "print('--- Статистика по соавторам ---')\n",
        "print('Публикаций с 2 соавторами:', two_co_authors, 'шт.')\n",
        "print('Публикаций с 3 соавторами:', three_co_authors, 'шт.')\n",
        "print('Публикаций с 4 соавторами:', four_co_authors, 'шт.')\n",
        "print('Публикаций с 5 соавторами:', five_co_authors, 'шт.')\n",
        "print('Публикаций с более, чем 5 соавторами:', more_than_five_co_authors, 'шт.')"
      ],
      "execution_count": null,
      "outputs": [
        {
          "output_type": "stream",
          "text": [
            "--- Статистика по публикациям ---\n",
            "ВСЕГО публикаций: 49820 шт.\n",
            "Одиночных публикаций: 35345 шт.\n",
            "Коллективных публикаций: 14475 шт.\n",
            "--- Статистика по соавторам ---\n",
            "Публикаций с 2 соавторами: 10479 шт.\n",
            "Публикаций с 3 соавторами: 2986 шт.\n",
            "Публикаций с 4 соавторами: 709 шт.\n",
            "Публикаций с 5 соавторами: 191 шт.\n",
            "Публикаций с более, чем 5 соавторами: 110 шт.\n"
          ],
          "name": "stdout"
        }
      ]
    },
    {
      "cell_type": "code",
      "metadata": {
        "colab": {
          "base_uri": "https://localhost:8080/"
        },
        "id": "9Yr-7nM4j7VB",
        "outputId": "978ce3a6-b460-4d93-eba6-1f90f4a5ff68"
      },
      "source": [
        "'''\n",
        "The research target #2:\n",
        "Define quantity of articles published by free license (Creative Commons)\n",
        "'''\n",
        "article_licenses = df['article_license']\n",
        "\n",
        "artciels_with_free_license = 0\n",
        "artciels_without_free_license = 0\n",
        "unknown = 0\n",
        "\n",
        "for article_license in article_licenses:\n",
        "  if article_license == 'Yes':\n",
        "    artciels_with_free_license += 1\n",
        "  elif article_license == 'No':\n",
        "    artciels_without_free_license += 1\n",
        "  else:\n",
        "    unknown += 1\n",
        "\n",
        "print('Количество статей со свободной лицензией (Creative Commons):', artciels_with_free_license, 'шт.')\n",
        "print('Количество статей БЕЗ свободной лицензией (Creative Commons):', artciels_without_free_license, 'шт.')\n",
        "print('Количество статей с неизвестными данными о лицензии:', unknown, 'шт.')"
      ],
      "execution_count": null,
      "outputs": [
        {
          "output_type": "stream",
          "text": [
            "Количество статей со свободной лицензией (Creative Commons): 48588 шт.\n",
            "Количество статей БЕЗ свободной лицензией (Creative Commons): 1232 шт.\n",
            "Количество статей с неизвестными данными о лицензии: 0 шт.\n"
          ],
          "name": "stdout"
        }
      ]
    },
    {
      "cell_type": "code",
      "metadata": {
        "colab": {
          "base_uri": "https://localhost:8080/"
        },
        "id": "jSHUayh7wVmq",
        "outputId": "60f6fd46-49a0-4261-e59b-e6a16fb7f785"
      },
      "source": [
        "# Show 100 most common authors\n",
        "all_articles_authors = df['article_author']\n",
        "\n",
        "fdist = FreqDist(all_articles_authors)\n",
        "print('Список 100 наиболее продуктивных авторов публикаций:')\n",
        "\n",
        "most_productive_authors = fdist.most_common(100)\n",
        "\n",
        "for author_stat in most_productive_authors:\n",
        "  print(author_stat)"
      ],
      "execution_count": null,
      "outputs": [
        {
          "output_type": "stream",
          "text": [
            "Список 100 наиболее продуктивных авторов публикаций:\n",
            "('EMPTY', 838)\n",
            "('Фомичев П. Н.', 85)\n",
            "('Якимова Е. В.', 74)\n",
            "('Куликова С. Н.', 73)\n",
            "('Былов В. Г.', 41)\n",
            "('Ким С. Г.', 37)\n",
            "('Виноградова Т. В.', 35)\n",
            "('Якимова Е.В.', 35)\n",
            "('Горшков Михаил Константинович', 32)\n",
            "('Соколова М. Е.', 32)\n",
            "('Ильиных Светлана Анатольевна', 29)\n",
            "('Цветкова Ирина Викторовна', 28)\n",
            "('Карнаушенко Леонид Владимирович', 28)\n",
            "('Ивановский Б.Г.', 27)\n",
            "('Ализаде А. А.', 26)\n",
            "('Васильева Э. П.', 25)\n",
            "('Евсеева Я.В.', 24)\n",
            "('Лихачев М.О.', 24)\n",
            "('Бессчетнова Оксана Владимировна', 23)\n",
            "('Волков Юрий Григорьевич', 23)\n",
            "('Луков Валерий Андреевич', 23)\n",
            "('Пряжникова О.Н.', 23)\n",
            "('Левада Юрий', 22)\n",
            "('Долгов А.Ю.', 22)\n",
            "('Куликова С.Н.', 22)\n",
            "('Кубякин Евгений Олегович', 21)\n",
            "('Ядова М.А.', 21)\n",
            "('Ушкова Е.Л.', 21)\n",
            "('Иванова Татьяна Николаевна', 21)\n",
            "('Гирко Л. В.', 20)\n",
            "('Горбунова Т. В.', 20)\n",
            "('Ушкова Е. Л.', 20)\n",
            "('Морев Михаил Владимирович, Дементьева Ирина Николаевна, Леонидова Елена Эдуардовна', 20)\n",
            "('Виноградова Т.В.', 20)\n",
            "('Флиер Андрей Яковлевич', 19)\n",
            "('Кравченко Сергей Александрович', 18)\n",
            "('Темницкий Александр Лазаревич', 18)\n",
            "('Гафиатулина Наталья Халиловна', 18)\n",
            "('Ильюшкин Виталий Владимирович', 18)\n",
            "('Кузнецова С. И.', 17)\n",
            "('Петров Александр Викторович', 17)\n",
            "('Горбачева Наталья Борисовна', 17)\n",
            "('Летов О.В.', 17)\n",
            "('Разов Павел Викторович', 16)\n",
            "('Зарубина Наталья Николаевна', 16)\n",
            "('Полюшкевич Оксана Александровна', 16)\n",
            "('Трофимова Ирина Николаевна', 16)\n",
            "('Лубский Анатолий Владимирович', 16)\n",
            "('Уварова Т. Б.', 15)\n",
            "('Евсеева Я. В.', 15)\n",
            "('Али-заде А. А.', 15)\n",
            "('Захарова Е.М.', 15)\n",
            "('Клинова Е. В.', 14)\n",
            "('Яницкий Олег Николаевич', 14)\n",
            "('Тощенко Жан Терентьевич', 14)\n",
            "('Бочарова Елена Евгеньевна', 14)\n",
            "('Платонова Светлана Ипатовна', 13)\n",
            "('Бесчасная Альбина Ахметовна', 13)\n",
            "('Намруева Людмила Васильевна', 13)\n",
            "('Романова Илона Валерьевна', 13)\n",
            "('Юдин Б. Г.', 13)\n",
            "('Ядова Майя Андреевна', 13)\n",
            "('Гужавина Татьяна Анатольевна', 13)\n",
            "('Кирдяшкин Иван Владимирович', 13)\n",
            "('Ильин Владимир Александрович', 13)\n",
            "('Черкасская Галина Викторовна', 12)\n",
            "('Ростовская Тамара Керимовна', 12)\n",
            "('Махиянова Алина Владимировна', 12)\n",
            "('Левченко Валерий Витальевич', 12)\n",
            "('Бадонов Алексей Маланович', 12)\n",
            "('Глушко Ирина Васильевна', 12)\n",
            "('Бутуева Зинаида Арсентьевна', 12)\n",
            "('Баринов Дмитрий Николаевич', 12)\n",
            "('Лось Б. В.', 12)\n",
            "('Ядова М. А.', 12)\n",
            "('Ставропольский Юлий Владимирович', 12)\n",
            "('Вдовина Маргарита Владимировна', 12)\n",
            "('Павлов Борис Сергеевич', 12)\n",
            "('Дробижева Леокадия Михайловна', 12)\n",
            "('Комлев Ю. Ю.', 12)\n",
            "('Мукомель Владимир Изявич', 12)\n",
            "('Думнова Эльнара Михайловна', 12)\n",
            "('Парамонова Светлана Павловна', 12)\n",
            "('Щанина Екатерина Владимировна', 12)\n",
            "('Дементьева Ирина Николаевна', 12)\n",
            "('Тихонова Наталья Евгеньевна', 12)\n",
            "('Аникин Даниил Александрович', 12)\n",
            "('Паршина В.В.', 12)\n",
            "('Савина Т.Н.', 12)\n",
            "('Ковалева Антонина Ивановна', 12)\n",
            "('Ализаде А.А.', 12)\n",
            "('Дементьева Изабелла Федоровна', 11)\n",
            "('Дубин Борис', 11)\n",
            "('Шахбанова Мадина Магомедкамиловна', 11)\n",
            "('Скворцов Игорь Петрович', 11)\n",
            "('Смирнов Владимир Алексеевич', 11)\n",
            "('Рахманов А. Б.', 11)\n",
            "('Ермаченко И. С.', 11)\n",
            "('Авдулов А. Н.', 11)\n",
            "('Минервин И. Г.', 11)\n"
          ],
          "name": "stdout"
        }
      ]
    },
    {
      "cell_type": "code",
      "metadata": {
        "colab": {
          "base_uri": "https://localhost:8080/"
        },
        "id": "156RFlMnphKB",
        "outputId": "1869ea61-d89c-434c-f0bd-629b655dca21"
      },
      "source": [
        "'''\n",
        "The research target #3:\n",
        "Calculate most common articles authors\n",
        "'''\n",
        "article_authors = df['article_author']\n",
        "unknown_authors = 0\n",
        "all_articles_authors = []\n",
        "\n",
        "# Divide authors lists on separate authors\n",
        "for article_author in article_authors:\n",
        "  for separate_author in article_author.split(', '):\n",
        "    if separate_author == 'EMPTY':\n",
        "      unknown_authors += 1\n",
        "    else:\n",
        "      all_articles_authors.append(separate_author)\n",
        "\n",
        "all_articles_authors_counter = len(all_articles_authors) + unknown_authors\n",
        "\n",
        "print('ВСЕГО датасет содержит:', all_articles_authors_counter, 'неуникальных автора(-ов)')\n",
        "print('Датасет содержит:', len(all_articles_authors), 'неуникальных автора(-ов)')\n",
        "print(\n",
        "  'Датасет содержит случаев, когда сведения об авторе отсутствуют (EMPTY):',\n",
        "  unknown_authors, \n",
        "  'случаев'\n",
        ")"
      ],
      "execution_count": null,
      "outputs": [
        {
          "output_type": "stream",
          "text": [
            "ВСЕГО датасет содержит: 69842 неуникальных автора(-ов)\n",
            "Датасет содержит: 69004 неуникальных автора(-ов)\n",
            "Датасет содержит случаев, когда сведения об авторе отсутствуют (EMPTY): 838 случаев\n"
          ],
          "name": "stdout"
        }
      ]
    },
    {
      "cell_type": "code",
      "metadata": {
        "colab": {
          "base_uri": "https://localhost:8080/",
          "height": 1000
        },
        "id": "ZXw7eSLi20ZP",
        "outputId": "0110a141-0d26-4329-d798-c54de3897de5"
      },
      "source": [
        "# Fix dublicated inforamtion about authors by using named entities. Ex.: Ivanov Ivan Ivanoivch > Ivanov I.I.\n",
        "# TODO: Delete the bug \"IndexError: string index out of range\" (see the local screenshot)\n",
        "def compareNameFullness(article_author_1, article_author_2):\n",
        "  if (\n",
        "    len(article_author_1.split('.')) > 1\n",
        "    and len(article_author_2.split('.')) > 1\n",
        "    or len(article_author_1.split('.')) == 1\n",
        "    and len(article_author_2.split('.')) == 1\n",
        "  ):\n",
        "    return True\n",
        "  else:\n",
        "    return False\n",
        "def getLastName(article_author):\n",
        "  return article_author.split(' ')[0]\n",
        "def getFirstNameLetter(article_author):\n",
        "  return article_author.split(' ')[1][0]\n",
        "def getMiddleNameLetter(article_author):\n",
        "  if len(article_author.split(' ')) == 2: # Ex.: Ivanov I.I.\n",
        "    # TODO: Add the condition to check 2 or 3 words in an author name\n",
        "    return article_author.split(' ')[1][2]\n",
        "  elif len(article_author.split(' ')) == 3: # Ex.: Ivanov I. I.\n",
        "    return article_author.split(' ')[2][0]\n",
        "\n",
        "for article_author_1 in all_articles_authors:\n",
        "  for article_author_2 in all_articles_authors:\n",
        "    if (\n",
        "      article_author_1 != article_author_2\n",
        "      and compareNameFullness(article_author_1, article_author_2) == False\n",
        "      and getLastName(article_author_1) == getLastName(article_author_2)\n",
        "      and getFirstNameLetter(article_author_1) == getFirstNameLetter(article_author_2)\n",
        "      and getMiddleNameLetter(article_author_1) == getMiddleNameLetter(article_author_2)\n",
        "    ):\n",
        "      print(article_author_1, '=', article_author_2)"
      ],
      "execution_count": null,
      "outputs": [
        {
          "output_type": "stream",
          "text": [
            "Фатхуллина Л. З. = Фатхуллина Лилия Зинуровна\n",
            "Захарова Татьяна Николаевна = Захарова Т.Н.\n",
            "Петрищев Владимир Иннокентьевич = Петрищев В.И.\n",
            "Петрищев Владимир Иннокентьевич = Петрищев В. И.\n",
            "Максимова М. Н. = Максимова Маргарита Николаевна\n",
            "Шклярук В. Я. = Шклярук Василий Яковлевич\n",
            "Шклярук В. Я. = Шклярук Василий Яковлевич\n",
            "Шклярук В. Я. = Шклярук Василий Яковлевич\n",
            "Шклярук В. Я. = Шклярук Василий Яковлевич\n",
            "Шклярук В. Я. = Шклярук Василий Яковлевич\n",
            "Шклярук В. Я. = Шклярук Василий Яковлевич\n",
            "Шурбе В. З. = Шурбе Вера Захаровна\n",
            "Шурбе В. З. = Шурбе Вера Захаровна\n",
            "Шурбе В. З. = Шурбе Вера Захаровна\n",
            "Бутаева Маргижат Ахмедовна = Бутаева М. А.\n",
            "Козленко О. Б. = Козленко Ольга Борисовна\n",
            "Максименко Александр Александрович = Максименко А. А.\n",
            "Дубин Б. В. = Дубин Борис Владимирович\n",
            "Дубин Б. В. = Дубин Борис Владимирович\n",
            "Дубин Б. В. = Дубин Борис Владимирович\n",
            "Дубин Б. В. = Дубин Борис Владимирович\n",
            "Дубин Б. В. = Дубин Борис Владимирович\n",
            "Дубин Б. В. = Дубин Борис Владимирович\n",
            "Рожков М. И. = Рожков Михаил Иосифович\n",
            "Рожков М. И. = Рожков Михаил Иосифович\n",
            "Рожков М. И. = Рожков Михаил Иосифович\n",
            "Ковальчук М. А. = Ковальчук Марина Александровна\n",
            "Ласточкина М. А. = Ласточкина Мария Александровна\n",
            "Ласточкина М. А. = Ласточкина Мария Александровна\n",
            "Ласточкина М. А. = Ласточкина Мария Александровна\n",
            "Ласточкина М. А. = Ласточкина Мария Александровна\n",
            "Ласточкина М. А. = Ласточкина Мария Александровна\n",
            "Ласточкина М. А. = Ласточкина Мария Александровна\n",
            "Ласточкина М. А. = Ласточкина Мария Александровна\n",
            "Ласточкина М. А. = Ласточкина Мария Александровна\n",
            "Ласточкина М. А. = Ласточкина Мария Александровна\n",
            "Ласточкина М. А. = Ласточкина Мария Александровна\n",
            "Ласточкина М. А. = Ласточкина Мария Александровна\n",
            "Ласточкина М. А. = Ласточкина Мария Александровна\n",
            "Ласточкина М. А. = Ласточкина Мария Александровна\n",
            "Ласточкина М. А. = Ласточкина Мария Александровна\n",
            "Свенцицкий Анатолий Леонидович = Свенцицкий А.Л.\n",
            "Хаджаров Магомед Хандулаевич = Хаджаров М. Х.\n",
            "Мамычева Д. И. = Мамычева Диана Ивановна\n",
            "Мамычева Д. И. = Мамычева Диана Ивановна\n",
            "Мамычева Д. И. = Мамычева Диана Ивановна\n",
            "Потапова О. Н. = Потапова Ольга Николаевна\n",
            "Потапова О. Н. = Потапова Ольга Николаевна\n",
            "Потапова О. Н. = Потапова Ольга Николаевна\n",
            "Потапова О. Н. = Потапова Ольга Николаевна\n",
            "Тавокин Е. П. = Тавокин Евгений Петрович\n",
            "Тавокин Е. П. = Тавокин Евгений Петрович\n",
            "Тавокин Е. П. = Тавокин Евгений Петрович\n",
            "Тавокин Е. П. = Тавокин Евгений Петрович\n",
            "Тавокин Е. П. = Тавокин Евгений Петрович\n",
            "Тавокин Е. П. = Тавокин Евгений Петрович\n",
            "Смакотина Наталия Леоновна = Смакотина Н. Л.\n",
            "Паначев В. Д. = Паначев Валерий Дмитриевич\n",
            "Паначев В. Д. = Паначев Валерий Дмитриевич\n",
            "Паначев В. Д. = Паначев Валерий Дмитриевич\n",
            "Паначев В. Д. = Паначев Валерий Дмитриевич\n",
            "Паначев В. Д. = Паначев Валерий Дмитриевич\n",
            "Паначев В. Д. = Паначев Валерий Дмитриевич\n"
          ],
          "name": "stdout"
        },
        {
          "output_type": "error",
          "ename": "IndexError",
          "evalue": "ignored",
          "traceback": [
            "\u001b[0;31m---------------------------------------------------------------------------\u001b[0m",
            "\u001b[0;31mIndexError\u001b[0m                                Traceback (most recent call last)",
            "\u001b[0;32m<ipython-input-9-40913671dadf>\u001b[0m in \u001b[0;36m<module>\u001b[0;34m()\u001b[0m\n\u001b[1;32m     29\u001b[0m       \u001b[0;32mand\u001b[0m \u001b[0mgetLastName\u001b[0m\u001b[0;34m(\u001b[0m\u001b[0marticle_author_1\u001b[0m\u001b[0;34m)\u001b[0m \u001b[0;34m==\u001b[0m \u001b[0mgetLastName\u001b[0m\u001b[0;34m(\u001b[0m\u001b[0marticle_author_2\u001b[0m\u001b[0;34m)\u001b[0m\u001b[0;34m\u001b[0m\u001b[0;34m\u001b[0m\u001b[0m\n\u001b[1;32m     30\u001b[0m       \u001b[0;32mand\u001b[0m \u001b[0mgetFirstNameLetter\u001b[0m\u001b[0;34m(\u001b[0m\u001b[0marticle_author_1\u001b[0m\u001b[0;34m)\u001b[0m \u001b[0;34m==\u001b[0m \u001b[0mgetFirstNameLetter\u001b[0m\u001b[0;34m(\u001b[0m\u001b[0marticle_author_2\u001b[0m\u001b[0;34m)\u001b[0m\u001b[0;34m\u001b[0m\u001b[0;34m\u001b[0m\u001b[0m\n\u001b[0;32m---> 31\u001b[0;31m       \u001b[0;32mand\u001b[0m \u001b[0mgetMiddleNameLetter\u001b[0m\u001b[0;34m(\u001b[0m\u001b[0marticle_author_1\u001b[0m\u001b[0;34m)\u001b[0m \u001b[0;34m==\u001b[0m \u001b[0mgetMiddleNameLetter\u001b[0m\u001b[0;34m(\u001b[0m\u001b[0marticle_author_2\u001b[0m\u001b[0;34m)\u001b[0m\u001b[0;34m\u001b[0m\u001b[0;34m\u001b[0m\u001b[0m\n\u001b[0m\u001b[1;32m     32\u001b[0m     ):\n\u001b[1;32m     33\u001b[0m       \u001b[0mprint\u001b[0m\u001b[0;34m(\u001b[0m\u001b[0marticle_author_1\u001b[0m\u001b[0;34m,\u001b[0m \u001b[0;34m'='\u001b[0m\u001b[0;34m,\u001b[0m \u001b[0marticle_author_2\u001b[0m\u001b[0;34m)\u001b[0m\u001b[0;34m\u001b[0m\u001b[0;34m\u001b[0m\u001b[0m\n",
            "\u001b[0;32m<ipython-input-9-40913671dadf>\u001b[0m in \u001b[0;36mgetMiddleNameLetter\u001b[0;34m(article_author)\u001b[0m\n\u001b[1;32m     18\u001b[0m   \u001b[0;32mif\u001b[0m \u001b[0mlen\u001b[0m\u001b[0;34m(\u001b[0m\u001b[0marticle_author\u001b[0m\u001b[0;34m.\u001b[0m\u001b[0msplit\u001b[0m\u001b[0;34m(\u001b[0m\u001b[0;34m' '\u001b[0m\u001b[0;34m)\u001b[0m\u001b[0;34m)\u001b[0m \u001b[0;34m==\u001b[0m \u001b[0;36m2\u001b[0m\u001b[0;34m:\u001b[0m \u001b[0;31m# Ex.: Ivanov I.I.\u001b[0m\u001b[0;34m\u001b[0m\u001b[0;34m\u001b[0m\u001b[0m\n\u001b[1;32m     19\u001b[0m     \u001b[0;31m# TODO: Add the condition to check 2 or 3 words in an author name\u001b[0m\u001b[0;34m\u001b[0m\u001b[0;34m\u001b[0m\u001b[0;34m\u001b[0m\u001b[0m\n\u001b[0;32m---> 20\u001b[0;31m     \u001b[0;32mreturn\u001b[0m \u001b[0marticle_author\u001b[0m\u001b[0;34m.\u001b[0m\u001b[0msplit\u001b[0m\u001b[0;34m(\u001b[0m\u001b[0;34m' '\u001b[0m\u001b[0;34m)\u001b[0m\u001b[0;34m[\u001b[0m\u001b[0;36m1\u001b[0m\u001b[0;34m]\u001b[0m\u001b[0;34m[\u001b[0m\u001b[0;36m2\u001b[0m\u001b[0;34m]\u001b[0m\u001b[0;34m\u001b[0m\u001b[0;34m\u001b[0m\u001b[0m\n\u001b[0m\u001b[1;32m     21\u001b[0m   \u001b[0;32melif\u001b[0m \u001b[0mlen\u001b[0m\u001b[0;34m(\u001b[0m\u001b[0marticle_author\u001b[0m\u001b[0;34m.\u001b[0m\u001b[0msplit\u001b[0m\u001b[0;34m(\u001b[0m\u001b[0;34m' '\u001b[0m\u001b[0;34m)\u001b[0m\u001b[0;34m)\u001b[0m \u001b[0;34m==\u001b[0m \u001b[0;36m3\u001b[0m\u001b[0;34m:\u001b[0m \u001b[0;31m# Ex.: Ivanov I. I.\u001b[0m\u001b[0;34m\u001b[0m\u001b[0;34m\u001b[0m\u001b[0m\n\u001b[1;32m     22\u001b[0m     \u001b[0;32mreturn\u001b[0m \u001b[0marticle_author\u001b[0m\u001b[0;34m.\u001b[0m\u001b[0msplit\u001b[0m\u001b[0;34m(\u001b[0m\u001b[0;34m' '\u001b[0m\u001b[0;34m)\u001b[0m\u001b[0;34m[\u001b[0m\u001b[0;36m2\u001b[0m\u001b[0;34m]\u001b[0m\u001b[0;34m[\u001b[0m\u001b[0;36m0\u001b[0m\u001b[0;34m]\u001b[0m\u001b[0;34m\u001b[0m\u001b[0;34m\u001b[0m\u001b[0m\n",
            "\u001b[0;31mIndexError\u001b[0m: string index out of range"
          ]
        }
      ]
    },
    {
      "cell_type": "code",
      "metadata": {
        "id": "tA7Y9oTWIarK",
        "colab": {
          "base_uri": "https://localhost:8080/",
          "height": 232
        },
        "outputId": "feab30db-0f97-4bc4-efcb-3993c878c528"
      },
      "source": [
        "'''\n",
        "The research target #4:\n",
        "Define influence size of key national documents about science (\"5-100\" and other)\n",
        "'''\n",
        "\n",
        "'''\n",
        "The date of CyberLeninka creation: September, 2020\n",
        "(see https://ru.wikipedia.org/wiki/КиберЛенинка)\n",
        "'''\n",
        "all_articles_dates = df['article_publication_date']\n",
        "\n",
        "fdist = FreqDist(all_articles_dates)\n",
        "print(\n",
        "  'Список',\n",
        "  str(len(most_frequency_dates)),\n",
        "  'лет, на которые приходилась наибольшее число публикаций:')\n",
        "\n",
        "most_frequency_dates = fdist.most_common(35)\n",
        "\n",
        "for date_stat in most_frequency_dates:\n",
        "  print(date_stat)"
      ],
      "execution_count": null,
      "outputs": [
        {
          "output_type": "error",
          "ename": "NameError",
          "evalue": "ignored",
          "traceback": [
            "\u001b[0;31m---------------------------------------------------------------------------\u001b[0m",
            "\u001b[0;31mNameError\u001b[0m                                 Traceback (most recent call last)",
            "\u001b[0;32m<ipython-input-10-0d670bc7a10d>\u001b[0m in \u001b[0;36m<module>\u001b[0;34m()\u001b[0m\n\u001b[1;32m     13\u001b[0m print(\n\u001b[1;32m     14\u001b[0m   \u001b[0;34m'Список'\u001b[0m\u001b[0;34m,\u001b[0m\u001b[0;34m\u001b[0m\u001b[0;34m\u001b[0m\u001b[0m\n\u001b[0;32m---> 15\u001b[0;31m   \u001b[0mstr\u001b[0m\u001b[0;34m(\u001b[0m\u001b[0mlen\u001b[0m\u001b[0;34m(\u001b[0m\u001b[0mmost_frequency_dates\u001b[0m\u001b[0;34m)\u001b[0m\u001b[0;34m)\u001b[0m\u001b[0;34m,\u001b[0m\u001b[0;34m\u001b[0m\u001b[0;34m\u001b[0m\u001b[0m\n\u001b[0m\u001b[1;32m     16\u001b[0m   'лет, на которые приходилась наибольшее число публикаций:')\n\u001b[1;32m     17\u001b[0m \u001b[0;34m\u001b[0m\u001b[0m\n",
            "\u001b[0;31mNameError\u001b[0m: name 'most_frequency_dates' is not defined"
          ]
        }
      ]
    },
    {
      "cell_type": "code",
      "metadata": {
        "colab": {
          "base_uri": "https://localhost:8080/"
        },
        "id": "XimP96QpPDhr",
        "outputId": "c1fa9f5b-223e-4470-ce33-2916d1a7c7f7"
      },
      "source": [
        "'''\n",
        "Calculate difference between pubications quantity\n",
        "between before 2012 years and after 2012 years\n",
        "'''\n",
        "all_articles_dates = df['article_publication_date']\n",
        "all_articles_authors = df['article_author']\n",
        "\n",
        "authors_before_2012 = []\n",
        "authors_after_2012 = []\n",
        "counter = -1\n",
        "\n",
        "# Divide authors on 2 main classes\n",
        "for date in all_articles_dates:\n",
        "  counter += 1\n",
        "  if date == 'EMPTY':\n",
        "    pass\n",
        "  elif float(date) < 2012:\n",
        "    authors_before_2012.append(all_articles_authors[counter])\n",
        "  elif float(date) >= 2012:\n",
        "    authors_after_2012.append(all_articles_authors[counter])\n",
        "\n",
        "print(\n",
        "  'Количество публикаций до 2012 г.:', len(authors_before_2012), 'шт.',\n",
        "  transform_to_relative(authors_before_2012, df)\n",
        ")\n",
        "print(\n",
        "  'Количество публикаций в 2012 г. и позднее:', len(authors_after_2012), 'шт.',\n",
        "  transform_to_relative(authors_after_2012, df)\n",
        ")"
      ],
      "execution_count": null,
      "outputs": [
        {
          "output_type": "stream",
          "text": [
            "Количество публикаций до 2012 г.: 15691 шт. (31.5%)\n",
            "Количество публикаций в 2012 г. и позднее: 33290 шт. (66.82%)\n"
          ],
          "name": "stdout"
        }
      ]
    },
    {
      "cell_type": "code",
      "metadata": {
        "colab": {
          "base_uri": "https://localhost:8080/"
        },
        "id": "u0p1Je7YXnnh",
        "outputId": "befac0ab-7155-4356-f46e-44b47b2442d7"
      },
      "source": [
        "'''\n",
        "To calculate average value for 2 classes of authors\n",
        "we have choose a median because it is more stable to abrupt deviations\n",
        "'''\n",
        "authors_quantity_before_2012 = 0\n",
        "authors_quantity_after_2012 = 0\n",
        "av_authors_quantity_before_2012 = []\n",
        "av_authors_quantity_after_2012 = []\n",
        "\n",
        "for author in authors_before_2012:\n",
        "  if len(author.split(', ')) > 1:\n",
        "    authors_quantity_before_2012 += 1\n",
        "    av_authors_quantity_before_2012.append(len(author.split(', ')))\n",
        "\n",
        "for author in authors_after_2012:\n",
        "  if len(author.split(', ')) > 1:\n",
        "    authors_quantity_after_2012 += 1\n",
        "    av_authors_quantity_after_2012.append(len(author.split(', ')))\n",
        "\n",
        "print('--- Статистика по коллективным публикациям до и после 2012 г. ---')\n",
        "print(\n",
        "  'Доля коллективных публикаций до 2012 г.:',\n",
        "  transform_to_relative(authors_quantity_before_2012, authors_before_2012)\n",
        ")\n",
        "print(\n",
        "  'Доля коллективных публикаций после 2012 г. (включая 2012 г.):',\n",
        "  transform_to_relative(authors_quantity_after_2012, authors_after_2012)\n",
        ")\n",
        "\n",
        "# Calculate mean value of common publications\n",
        "print(\n",
        "  'Среднее количество соавторов до 2012 г.:',\n",
        "  round(statistics.mean(av_authors_quantity_before_2012), 2)\n",
        ")\n",
        "print(\n",
        "  'Среднее количество соавторов после 2012 г. (включая 2012 г.):',\n",
        "  round(statistics.mean(av_authors_quantity_after_2012), 2)\n",
        ")"
      ],
      "execution_count": null,
      "outputs": [
        {
          "output_type": "stream",
          "text": [
            "--- Статистика по коллективным публикациям до и после 2012 г. ---\n",
            "Доля коллективных публикаций до 2012 г.: (18.02%)\n",
            "Доля коллективных публикаций после 2012 г. (включая 2012 г.): (34.99%)\n",
            "Среднее количество соавторов до 2012 г.: 2.31\n",
            "Среднее количество соавторов после 2012 г. (включая 2012 г.): 2.4\n"
          ],
          "name": "stdout"
        }
      ]
    }
  ]
}